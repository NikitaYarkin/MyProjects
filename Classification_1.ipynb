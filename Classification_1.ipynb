{
 "cells": [
  {
   "cell_type": "code",
   "execution_count": null,
   "id": "5899c0d4-ee5c-4b6e-a60c-fae652c6c971",
   "metadata": {},
   "outputs": [],
   "source": []
  },
  {
   "cell_type": "code",
   "execution_count": null,
   "id": "3befcf93-10ff-4aae-b94f-31b5d6b333cd",
   "metadata": {},
   "outputs": [],
   "source": [
    "#Урок 8. Деревья решений.\n",
    "# В уроках мы разбирали на небольшом наборе данных деревья решений без настройки гиперпараметров.\n",
    "#Здесь предлагаем вам рассмотреть работу классификатора на более сложном датасете, применив настройку гиперпараметров.\n"
   ]
  },
  {
   "cell_type": "code",
   "execution_count": null,
   "id": "f42a1abd-1f62-46e9-bae9-58c84918d518",
   "metadata": {},
   "outputs": [],
   "source": [
    "#1.На датасете из предыдущего урока - load_wine() - обучите дерево решений (DecisionTreeClassifier).\n",
    "# Примечание: при установке гиперпараметров модели и разбиении на тренировочный и тестовый датасеты используйте random_state=17 \n",
    "#для воспроизводимости результатов.\n"
   ]
  },
  {
   "cell_type": "code",
   "execution_count": null,
   "id": "3b13ba87-3570-44a7-a335-8ce4c159f1ef",
   "metadata": {},
   "outputs": [],
   "source": [
    "from sklearn.datasets import load_wine\n",
    "from sklearn.tree import DecisionTreeClassifier\n",
    "from sklearn.model_selection import train_test_split"
   ]
  },
  {
   "cell_type": "code",
   "execution_count": null,
   "id": "a4f70bb4-27b2-4341-964e-07bc158bc635",
   "metadata": {},
   "outputs": [],
   "source": [
    "wine_dataset = load_wine() # возвращает объект с несколькими полями\n",
    "wine_dataset.feature_names[11:13]"
   ]
  },
  {
   "cell_type": "code",
   "execution_count": null,
   "id": "cc089143-cbf8-400c-a3d4-6d7523fc2905",
   "metadata": {},
   "outputs": [],
   "source": [
    "x_train, x_test, y_train, y_test = train_test_split(wine_dataset.data[:,11:13], \n",
    "                                                    wine_dataset['target'],\n",
    "                                                    random_state=17) # random_state - для воспроизводимости\n",
    "\n",
    "print(f'X_train shape: {x_train.shape}, y_train shape: {y_train.shape},\\n'\n",
    "      f'X_test shape: {x_test.shape}, y_test shape: {y_test.shape}')"
   ]
  },
  {
   "cell_type": "code",
   "execution_count": null,
   "id": "237af986-3ca7-498a-8df0-bfc561e8dcf0",
   "metadata": {},
   "outputs": [],
   "source": [
    "dtc = DecisionTreeClassifier()\n",
    "dtc_model = dtc.fit(x_train, y_train)\n",
    "dtc_predict = dtc.predict(x_test)\n",
    "\n",
    "dtc_predict\n"
   ]
  },
  {
   "cell_type": "code",
   "execution_count": null,
   "id": "83b5fcf7-fb88-4153-858e-ff4cc883df07",
   "metadata": {},
   "outputs": [],
   "source": [
    "accuracy = dtc.score(x_test, y_test)\n",
    "print(f'Accuracy: {accuracy}')"
   ]
  },
  {
   "cell_type": "code",
   "execution_count": null,
   "id": "0565a488-b968-4298-8d65-ebe0b7a2640b",
   "metadata": {},
   "outputs": [],
   "source": [
    "from sklearn import tree\n",
    "import graphviz\n",
    "import os\n",
    "os.environ[\"PATH\"] += os.pathsep + r\"C:\\Graphviz\\bin\"\n"
   ]
  },
  {
   "cell_type": "code",
   "execution_count": null,
   "id": "748a9d32-ab8a-474b-9fd7-62914c8b573b",
   "metadata": {},
   "outputs": [],
   "source": [
    "def print_graph(data):\n",
    "    dot_data = tree.export_graphviz(data, out_file=None,\n",
    "                                    feature_names=wine_dataset.feature_names[11:13],  \n",
    "                                    class_names=wine_dataset.target_names,  \n",
    "                                    filled=True)  \n",
    "    return graphviz.Source(dot_data)  \n",
    "\n",
    "print_graph(dtc_model)"
   ]
  },
  {
   "cell_type": "code",
   "execution_count": null,
   "id": "e481a517-e04d-4387-b9dc-8cd11c3ea86e",
   "metadata": {},
   "outputs": [],
   "source": [
    "#3.Используя полученную модель, сделайте прогноз для тестовой выборки данных и, пользуясь встроенной функцией score(),\n",
    "#определите точность модели."
   ]
  },
  {
   "cell_type": "code",
   "execution_count": null,
   "id": "afab3436-3cb2-4d87-b395-55ece7912f38",
   "metadata": {},
   "outputs": [],
   "source": [
    "accuracy = dtc.score(x_test, y_test)\n",
    "print(f'Accuracy: {accuracy}')"
   ]
  },
  {
   "cell_type": "code",
   "execution_count": null,
   "id": "c52bc52e-b0d9-451b-b96d-9e353b009734",
   "metadata": {},
   "outputs": [],
   "source": [
    "#4.Постройте модель, указав гиперпараметр max_features равным 2 (так же указав random_state=17) и, \n",
    "#сделав прогноз на тестовых данных, определите, стала ли модель работать точнее.\n",
    "#Примечание: гиперпараметр max_features показывает модели, сколько различных признаков необходимо использовать каждый раз при принятии решения о разделении.\n",
    "#То есть если, допустим, у вас имеются 50 признаков, а max_features=10, то в каждом узле случайным образом выбираются 10 признаков, которые будут использоваться\n",
    "#для поиска лучшего разделения"
   ]
  },
  {
   "cell_type": "code",
   "execution_count": null,
   "id": "4d313c4b-99ae-4bee-9c15-76b0dc5cb9af",
   "metadata": {},
   "outputs": [],
   "source": [
    "dtc = DecisionTreeClassifier(max_features=2)\n",
    "dtc_model = dtc.fit(x_train, y_train)\n",
    "dtc_predict = dtc.predict(x_test)\n",
    "\n",
    "dtc_predict"
   ]
  },
  {
   "cell_type": "code",
   "execution_count": null,
   "id": "9f83639e-33cf-4b77-a2e3-8e8c4656a90f",
   "metadata": {},
   "outputs": [],
   "source": [
    "accuracy = dtc.score(x_test, y_test)\n",
    "print(f'Accuracy: {accuracy}')"
   ]
  },
  {
   "cell_type": "code",
   "execution_count": null,
   "id": "76eb9db2-6143-4b13-be66-5d7e9b7f3e42",
   "metadata": {},
   "outputs": [],
   "source": [
    "#5.Теперь постройте граф дерева решений, используя graphviz."
   ]
  },
  {
   "cell_type": "code",
   "execution_count": null,
   "id": "e2a05cb5-39c4-4190-ab34-c66f41c50ac8",
   "metadata": {},
   "outputs": [],
   "source": [
    "def print_graph(data):\n",
    "    dot_data = tree.export_graphviz(data, out_file=None,\n",
    "                                    feature_names=wine_dataset.feature_names[11:13],  \n",
    "                                    class_names=wine_dataset.target_names,  \n",
    "                                    filled=True)  \n",
    "    return graphviz.Source(dot_data)  \n",
    "\n",
    "print_graph(dtc_model)"
   ]
  },
  {
   "cell_type": "code",
   "execution_count": null,
   "id": "f12e36fe-a3ca-465a-bd0a-6fb2caaf7de1",
   "metadata": {},
   "outputs": [],
   "source": [
    "#6.Используя обученное в предыдущем задании дерево решений, настройте параметры max_depth и max_features на 5-кратной валидации\n",
    "#с помощью GridSearchCV. Для этого в функцию GridSearchCV передайте параметры (tree, tree_params, cv=5).\n",
    "#Примечание: tree здесь - не обученная модель, а объект, который инкапсулирует алгоритм. Например, в уроке мы его обозначали как dtc."
   ]
  },
  {
   "cell_type": "code",
   "execution_count": null,
   "id": "43af03d2-51d0-4c81-b0ad-1e84bdd68f8f",
   "metadata": {},
   "outputs": [],
   "source": []
  },
  {
   "cell_type": "code",
   "execution_count": null,
   "id": "be521f5b-2c7e-42bf-99b5-43ab464a218f",
   "metadata": {},
   "outputs": [],
   "source": [
    "from sklearn.datasets import load_wine\n",
    "from sklearn.tree import DecisionTreeClassifier\n",
    "from sklearn.model_selection import train_test_split\n",
    "from sklearn.model_selection import GridSearchCV, cross_val_score"
   ]
  },
  {
   "cell_type": "code",
   "execution_count": null,
   "id": "c715a859-7168-4633-a252-ccbed831d0ba",
   "metadata": {},
   "outputs": [],
   "source": [
    "wine_dataset = load_wine() # возвращает объект с несколькими полями\n",
    "wine_dataset.feature_names[11:13]"
   ]
  },
  {
   "cell_type": "code",
   "execution_count": null,
   "id": "e55a7ce4-5e20-4a78-a1f8-f763e7c80c08",
   "metadata": {},
   "outputs": [],
   "source": [
    "x_train, x_test, y_train, y_test = train_test_split(wine_dataset.data[:,11:13], \n",
    "                                                    wine_dataset['target'],\n",
    "                                                    random_state=17) # random_state - для воспроизводимости\n",
    "\n",
    "print(f'X_train shape: {x_train.shape}, y_train shape: {y_train.shape},\\n'\n",
    "      f'X_test shape: {x_test.shape}, y_test shape: {y_test.shape}')"
   ]
  },
  {
   "cell_type": "code",
   "execution_count": null,
   "id": "68f86542-c88b-4616-8b36-ed69a013a29f",
   "metadata": {},
   "outputs": [],
   "source": [
    "dtc = DecisionTreeClassifier(max_features=2)"
   ]
  },
  {
   "cell_type": "code",
   "execution_count": null,
   "id": "cc330197-5647-4d71-9883-548f94c549b3",
   "metadata": {},
   "outputs": [],
   "source": []
  },
  {
   "cell_type": "code",
   "execution_count": 42,
   "id": "6e74efa4-332b-48c7-a42f-f034a57ae931",
   "metadata": {},
   "outputs": [
    {
     "data": {
      "text/plain": [
       "{'mean_fit_time': array([0.00113559, 0.00106101, 0.00225315, 0.00269222, 0.00217919,\n",
       "        0.00185122, 0.00165968, 0.00159388, 0.00273976, 0.00128694,\n",
       "        0.00181985, 0.0012476 , 0.00126328, 0.00212541, 0.0009685 ,\n",
       "        0.00118647, 0.00127773, 0.00107269, 0.00147319, 0.00134821,\n",
       "        0.00146074, 0.00164304, 0.00126424, 0.00197077, 0.0016644 ,\n",
       "        0.00122075, 0.00166287, 0.0016562 , 0.00169139, 0.00114875,\n",
       "        0.00148168, 0.00157547, 0.00144658, 0.00149808, 0.00153146,\n",
       "        0.00155525, 0.00129318, 0.00105648, 0.00126886, 0.00137758,\n",
       "        0.00147457, 0.00125833, 0.0011539 , 0.00139251, 0.00152617]),\n",
       " 'std_fit_time': array([4.95890379e-04, 3.61720239e-04, 1.56263984e-03, 1.91326265e-03,\n",
       "        4.98835198e-04, 6.65907105e-04, 4.48882415e-04, 7.98884804e-04,\n",
       "        6.82363197e-04, 3.80170260e-04, 4.05515619e-04, 7.14180637e-04,\n",
       "        4.79315625e-04, 9.74389852e-04, 4.19026127e-04, 7.27192231e-04,\n",
       "        2.66481477e-04, 3.55914858e-04, 4.82089206e-05, 3.86518753e-04,\n",
       "        2.97943425e-04, 3.43442558e-04, 3.68612259e-04, 5.67548344e-04,\n",
       "        8.65478883e-04, 3.98680334e-04, 3.63592432e-04, 4.71733909e-04,\n",
       "        4.21742328e-04, 6.59253289e-04, 8.17875267e-04, 4.37491843e-04,\n",
       "        5.86822891e-04, 4.07665374e-05, 7.80228340e-04, 4.57864328e-04,\n",
       "        3.89275499e-04, 4.43518219e-04, 3.71422815e-04, 4.75071714e-04,\n",
       "        3.68972760e-05, 3.55299792e-04, 3.86533901e-04, 4.65770221e-04,\n",
       "        6.16857297e-04]),\n",
       " 'mean_score_time': array([0.00128045, 0.00099192, 0.00139809, 0.00192885, 0.00166392,\n",
       "        0.00186367, 0.00099893, 0.00154672, 0.00226078, 0.00136895,\n",
       "        0.00115805, 0.00177517, 0.00189328, 0.00135627, 0.00099754,\n",
       "        0.00105963, 0.00077319, 0.00080137, 0.00077157, 0.00052366,\n",
       "        0.00134168, 0.0012557 , 0.00136132, 0.0014348 , 0.00116534,\n",
       "        0.00112896, 0.00088468, 0.00117445, 0.00084028, 0.00109138,\n",
       "        0.0012846 , 0.00109248, 0.00129499, 0.00103707, 0.00098314,\n",
       "        0.00108099, 0.001372  , 0.00129371, 0.0012002 , 0.00125604,\n",
       "        0.00095029, 0.00126529, 0.00107474, 0.00132661, 0.00087171]),\n",
       " 'std_score_time': array([5.11207099e-04, 4.15984237e-04, 4.42301667e-04, 1.56009035e-03,\n",
       "        1.21658821e-03, 7.72154034e-04, 4.20822946e-04, 7.88889641e-04,\n",
       "        1.18334055e-03, 6.15653343e-04, 4.98189742e-04, 5.68419526e-04,\n",
       "        3.11529543e-04, 2.19537122e-04, 2.97421000e-04, 3.59094936e-04,\n",
       "        2.20501948e-04, 3.66740428e-04, 4.72237032e-04, 1.77781622e-05,\n",
       "        1.92448819e-04, 3.85182327e-04, 3.54885375e-04, 7.69728894e-04,\n",
       "        3.66053647e-04, 2.57852329e-04, 3.46534285e-04, 3.51290015e-04,\n",
       "        4.55333837e-04, 4.55357631e-04, 3.76227147e-04, 4.44077588e-04,\n",
       "        5.23298282e-04, 3.41707157e-04, 2.98566879e-04, 4.68294051e-04,\n",
       "        6.27415868e-04, 6.67845370e-04, 3.71065136e-04, 2.27661176e-04,\n",
       "        5.86564023e-04, 2.33688595e-04, 4.71663817e-04, 5.82493124e-04,\n",
       "        3.52980503e-04]),\n",
       " 'param_max_depth': masked_array(data=[1, 1, 1, 1, 1, 1, 1, 1, 1, 2, 2, 2, 2, 2, 2, 2, 2, 2,\n",
       "                    3, 3, 3, 3, 3, 3, 3, 3, 3, 4, 4, 4, 4, 4, 4, 4, 4, 4,\n",
       "                    5, 5, 5, 5, 5, 5, 5, 5, 5],\n",
       "              mask=[False, False, False, False, False, False, False, False,\n",
       "                    False, False, False, False, False, False, False, False,\n",
       "                    False, False, False, False, False, False, False, False,\n",
       "                    False, False, False, False, False, False, False, False,\n",
       "                    False, False, False, False, False, False, False, False,\n",
       "                    False, False, False, False, False],\n",
       "        fill_value='?',\n",
       "             dtype=object),\n",
       " 'param_max_features': masked_array(data=[1, 2, 3, 4, 5, 6, 7, 8, 9, 1, 2, 3, 4, 5, 6, 7, 8, 9,\n",
       "                    1, 2, 3, 4, 5, 6, 7, 8, 9, 1, 2, 3, 4, 5, 6, 7, 8, 9,\n",
       "                    1, 2, 3, 4, 5, 6, 7, 8, 9],\n",
       "              mask=[False, False, False, False, False, False, False, False,\n",
       "                    False, False, False, False, False, False, False, False,\n",
       "                    False, False, False, False, False, False, False, False,\n",
       "                    False, False, False, False, False, False, False, False,\n",
       "                    False, False, False, False, False, False, False, False,\n",
       "                    False, False, False, False, False],\n",
       "        fill_value='?',\n",
       "             dtype=object),\n",
       " 'params': [{'max_depth': 1, 'max_features': 1},\n",
       "  {'max_depth': 1, 'max_features': 2},\n",
       "  {'max_depth': 1, 'max_features': 3},\n",
       "  {'max_depth': 1, 'max_features': 4},\n",
       "  {'max_depth': 1, 'max_features': 5},\n",
       "  {'max_depth': 1, 'max_features': 6},\n",
       "  {'max_depth': 1, 'max_features': 7},\n",
       "  {'max_depth': 1, 'max_features': 8},\n",
       "  {'max_depth': 1, 'max_features': 9},\n",
       "  {'max_depth': 2, 'max_features': 1},\n",
       "  {'max_depth': 2, 'max_features': 2},\n",
       "  {'max_depth': 2, 'max_features': 3},\n",
       "  {'max_depth': 2, 'max_features': 4},\n",
       "  {'max_depth': 2, 'max_features': 5},\n",
       "  {'max_depth': 2, 'max_features': 6},\n",
       "  {'max_depth': 2, 'max_features': 7},\n",
       "  {'max_depth': 2, 'max_features': 8},\n",
       "  {'max_depth': 2, 'max_features': 9},\n",
       "  {'max_depth': 3, 'max_features': 1},\n",
       "  {'max_depth': 3, 'max_features': 2},\n",
       "  {'max_depth': 3, 'max_features': 3},\n",
       "  {'max_depth': 3, 'max_features': 4},\n",
       "  {'max_depth': 3, 'max_features': 5},\n",
       "  {'max_depth': 3, 'max_features': 6},\n",
       "  {'max_depth': 3, 'max_features': 7},\n",
       "  {'max_depth': 3, 'max_features': 8},\n",
       "  {'max_depth': 3, 'max_features': 9},\n",
       "  {'max_depth': 4, 'max_features': 1},\n",
       "  {'max_depth': 4, 'max_features': 2},\n",
       "  {'max_depth': 4, 'max_features': 3},\n",
       "  {'max_depth': 4, 'max_features': 4},\n",
       "  {'max_depth': 4, 'max_features': 5},\n",
       "  {'max_depth': 4, 'max_features': 6},\n",
       "  {'max_depth': 4, 'max_features': 7},\n",
       "  {'max_depth': 4, 'max_features': 8},\n",
       "  {'max_depth': 4, 'max_features': 9},\n",
       "  {'max_depth': 5, 'max_features': 1},\n",
       "  {'max_depth': 5, 'max_features': 2},\n",
       "  {'max_depth': 5, 'max_features': 3},\n",
       "  {'max_depth': 5, 'max_features': 4},\n",
       "  {'max_depth': 5, 'max_features': 5},\n",
       "  {'max_depth': 5, 'max_features': 6},\n",
       "  {'max_depth': 5, 'max_features': 7},\n",
       "  {'max_depth': 5, 'max_features': 8},\n",
       "  {'max_depth': 5, 'max_features': 9}],\n",
       " 'split0_test_score': array([0.74074074, 0.74074074, 0.74074074, 0.74074074, 0.74074074,\n",
       "        0.74074074, 0.74074074, 0.74074074, 0.74074074, 0.88888889,\n",
       "        0.88888889, 0.88888889, 0.88888889, 0.88888889, 0.88888889,\n",
       "        0.88888889, 0.88888889, 0.88888889, 0.88888889, 0.88888889,\n",
       "        0.88888889, 0.88888889, 0.88888889, 0.88888889, 0.88888889,\n",
       "        0.88888889, 0.88888889, 0.96296296, 0.85185185, 0.85185185,\n",
       "        0.85185185, 0.85185185, 0.85185185, 0.85185185, 0.85185185,\n",
       "        0.85185185, 0.96296296, 0.81481481, 0.81481481, 0.81481481,\n",
       "        0.81481481, 0.81481481, 0.81481481, 0.81481481, 0.81481481]),\n",
       " 'split1_test_score': array([0.59259259, 0.59259259, 0.59259259, 0.59259259, 0.59259259,\n",
       "        0.59259259, 0.59259259, 0.59259259, 0.59259259, 0.66666667,\n",
       "        0.81481481, 0.81481481, 0.81481481, 0.81481481, 0.81481481,\n",
       "        0.81481481, 0.81481481, 0.81481481, 0.85185185, 0.81481481,\n",
       "        0.81481481, 0.81481481, 0.81481481, 0.81481481, 0.81481481,\n",
       "        0.81481481, 0.81481481, 0.81481481, 0.81481481, 0.81481481,\n",
       "        0.81481481, 0.81481481, 0.81481481, 0.81481481, 0.81481481,\n",
       "        0.81481481, 0.77777778, 0.77777778, 0.77777778, 0.77777778,\n",
       "        0.77777778, 0.77777778, 0.77777778, 0.77777778, 0.77777778]),\n",
       " 'split2_test_score': array([0.59259259, 0.77777778, 0.77777778, 0.77777778, 0.77777778,\n",
       "        0.77777778, 0.77777778, 0.77777778, 0.77777778, 0.96296296,\n",
       "        0.96296296, 0.96296296, 0.96296296, 0.96296296, 0.96296296,\n",
       "        0.96296296, 0.96296296, 0.96296296, 0.88888889, 0.81481481,\n",
       "        0.81481481, 0.81481481, 0.81481481, 0.81481481, 0.81481481,\n",
       "        0.81481481, 0.81481481, 0.7037037 , 0.77777778, 0.77777778,\n",
       "        0.77777778, 0.77777778, 0.77777778, 0.77777778, 0.77777778,\n",
       "        0.77777778, 0.51851852, 0.7037037 , 0.7037037 , 0.7037037 ,\n",
       "        0.7037037 , 0.7037037 , 0.7037037 , 0.7037037 , 0.7037037 ]),\n",
       " 'split3_test_score': array([0.73076923, 0.73076923, 0.73076923, 0.73076923, 0.73076923,\n",
       "        0.73076923, 0.73076923, 0.73076923, 0.73076923, 0.88461538,\n",
       "        0.88461538, 0.88461538, 0.88461538, 0.88461538, 0.88461538,\n",
       "        0.88461538, 0.88461538, 0.88461538, 0.84615385, 0.84615385,\n",
       "        0.84615385, 0.84615385, 0.84615385, 0.84615385, 0.84615385,\n",
       "        0.84615385, 0.84615385, 0.88461538, 0.88461538, 0.88461538,\n",
       "        0.88461538, 0.88461538, 0.88461538, 0.88461538, 0.88461538,\n",
       "        0.88461538, 0.88461538, 0.88461538, 0.88461538, 0.88461538,\n",
       "        0.88461538, 0.88461538, 0.88461538, 0.88461538, 0.88461538]),\n",
       " 'split4_test_score': array([0.73076923, 0.73076923, 0.73076923, 0.73076923, 0.73076923,\n",
       "        0.73076923, 0.73076923, 0.73076923, 0.73076923, 0.65384615,\n",
       "        0.76923077, 0.76923077, 0.76923077, 0.76923077, 0.76923077,\n",
       "        0.76923077, 0.76923077, 0.76923077, 0.76923077, 0.76923077,\n",
       "        0.76923077, 0.76923077, 0.76923077, 0.76923077, 0.76923077,\n",
       "        0.76923077, 0.76923077, 0.80769231, 0.73076923, 0.80769231,\n",
       "        0.73076923, 0.80769231, 0.73076923, 0.73076923, 0.80769231,\n",
       "        0.73076923, 0.69230769, 0.69230769, 0.76923077, 0.69230769,\n",
       "        0.76923077, 0.80769231, 0.76923077, 0.69230769, 0.80769231]),\n",
       " 'mean_test_score': array([0.67749288, 0.71452991, 0.71452991, 0.71452991, 0.71452991,\n",
       "        0.71452991, 0.71452991, 0.71452991, 0.71452991, 0.81139601,\n",
       "        0.86410256, 0.86410256, 0.86410256, 0.86410256, 0.86410256,\n",
       "        0.86410256, 0.86410256, 0.86410256, 0.84900285, 0.82678063,\n",
       "        0.82678063, 0.82678063, 0.82678063, 0.82678063, 0.82678063,\n",
       "        0.82678063, 0.82678063, 0.83475783, 0.81196581, 0.82735043,\n",
       "        0.81196581, 0.82735043, 0.81196581, 0.81196581, 0.82735043,\n",
       "        0.81196581, 0.76723647, 0.77464387, 0.79002849, 0.77464387,\n",
       "        0.79002849, 0.7977208 , 0.79002849, 0.77464387, 0.7977208 ]),\n",
       " 'std_test_score': array([0.06941635, 0.06337735, 0.06337735, 0.06337735, 0.06337735,\n",
       "        0.06337735, 0.06337735, 0.06337735, 0.06337735, 0.12657591,\n",
       "        0.06669101, 0.06669101, 0.06669101, 0.06669101, 0.06669101,\n",
       "        0.06669101, 0.06669101, 0.06669101, 0.04373011, 0.03957551,\n",
       "        0.03957551, 0.03957551, 0.03957551, 0.03957551, 0.03957551,\n",
       "        0.03957551, 0.03957551, 0.08628764, 0.05410856, 0.03709616,\n",
       "        0.05410856, 0.03709616, 0.05410856, 0.05410856, 0.03709616,\n",
       "        0.05410856, 0.15470794, 0.0714549 , 0.05932223, 0.0714549 ,\n",
       "        0.05932223, 0.05861611, 0.05932223, 0.0714549 , 0.05861611]),\n",
       " 'rank_test_score': array([45, 37, 37, 37, 37, 37, 37, 37, 37, 27,  1,  1,  1,  1,  1,  1,  1,\n",
       "         1,  9, 14, 14, 14, 14, 14, 14, 14, 14, 10, 22, 11, 22, 11, 22, 22,\n",
       "        11, 22, 36, 33, 30, 33, 30, 28, 30, 33, 28])}"
      ]
     },
     "execution_count": 42,
     "metadata": {},
     "output_type": "execute_result"
    }
   ],
   "source": [
    "tree_params = {'max_depth': range(1, 6), \n",
    "               'max_features': range(1, 10)}\n",
    "\n",
    "grid = GridSearchCV(dtc, tree_params, cv=5)\n",
    "tree_grid =grid.fit(x_train, y_train)\n",
    "# tree_grid_predict =grid.predict(x_test)\n",
    "#tree_grid\n",
    "results = tree_grid.cv_results_\n",
    "results"
   ]
  },
  {
   "cell_type": "code",
   "execution_count": null,
   "id": "6a6ab765-7975-4159-9400-2ed2e87738b6",
   "metadata": {},
   "outputs": [],
   "source": [
    "# 7.\n",
    "\n",
    "С помощью метода tree_grid.fit() постройте модель на тренировочных данных и выведите лучшее сочетание параметров с помощью метода tree_grid.best_params_"
   ]
  },
  {
   "cell_type": "code",
   "execution_count": 41,
   "id": "4919d8dc-f468-4a30-96c8-905393bdf864",
   "metadata": {},
   "outputs": [
    {
     "data": {
      "text/plain": [
       "{'max_depth': 2, 'max_features': 2}"
      ]
     },
     "execution_count": 41,
     "metadata": {},
     "output_type": "execute_result"
    }
   ],
   "source": [
    "grid = GridSearchCV(dtc, tree_params, cv=5)\n",
    "tree_grid =grid.fit(x_train, y_train)\n",
    "# tree_grid_predict =grid.predict(x_test)\n",
    "#tree_grid\n",
    "results = tree_grid.best_params_ \n",
    "results"
   ]
  },
  {
   "cell_type": "code",
   "execution_count": null,
   "id": "6e9b14fd-5657-48c9-ac57-e7d5501e20fe",
   "metadata": {},
   "outputs": [],
   "source": [
    "#8.С помощью полученной модели сделайте прогноз - predict - для тестовой выборки и выведите долю верных ответов, проверив точность модели, \n",
    "#используя функцию accuracy_score."
   ]
  },
  {
   "cell_type": "code",
   "execution_count": 46,
   "id": "bff469a4-08da-46d6-8b35-a60133799556",
   "metadata": {},
   "outputs": [
    {
     "data": {
      "text/plain": [
       "array([1, 1, 1, 0, 2, 2, 0, 1, 2, 0, 2, 0, 1, 1, 2, 2, 2, 1, 2, 1, 1, 1,\n",
       "       2, 2, 2, 1, 0, 1, 2, 1, 2, 2, 0, 0, 2, 1, 0, 1, 2, 1, 2, 1, 1, 2,\n",
       "       2])"
      ]
     },
     "execution_count": 46,
     "metadata": {},
     "output_type": "execute_result"
    }
   ],
   "source": [
    "from sklearn.metrics import accuracy_score\n",
    "grid = GridSearchCV(dtc, tree_params, cv=5)\n",
    "tree_grid =grid.fit(x_train, y_train)\n",
    "tree_grid_predict =grid.predict(x_test)\n",
    "tree_grid_predict"
   ]
  },
  {
   "cell_type": "code",
   "execution_count": 48,
   "id": "98ba099f-29d6-424d-b89b-a2045ac1d951",
   "metadata": {},
   "outputs": [
    {
     "name": "stdout",
     "output_type": "stream",
     "text": [
      "Accuracy: 0.9111111111111111\n"
     ]
    }
   ],
   "source": [
    "accuracy = grid.score(x_test, y_test)\n",
    "print(f'Accuracy: {accuracy}')"
   ]
  },
  {
   "cell_type": "code",
   "execution_count": null,
   "id": "70c9b859-e1b3-483d-abdc-6d8ce382d21c",
   "metadata": {},
   "outputs": [],
   "source": []
  },
  {
   "cell_type": "code",
   "execution_count": null,
   "id": "9811ad81-0def-48ac-a418-652d1caae3b4",
   "metadata": {},
   "outputs": [],
   "source": [
    "# Урок 6. Наивный байесовский классификатор\n",
    "# В уроке мы подробно рассмотрели, как работает наивный байесовский классификатор, на примере частотной таблицы. \n",
    "#Такие данные на практике встречаются довольно редко (если вы не работаете с классификацией текстов),\n",
    "#поэтому сейчас предлагаем самостоятельно разобрать принцип работы гауссовского наивного Байеса, который можно встретить чаще остальных.\n"
   ]
  },
  {
   "cell_type": "code",
   "execution_count": null,
   "id": "db23f905-ac32-42f3-a066-aa7a0d36e72e",
   "metadata": {},
   "outputs": [],
   "source": []
  },
  {
   "cell_type": "code",
   "execution_count": null,
   "id": "cf13252f-4b5e-42f0-8941-4cf63ec98d5b",
   "metadata": {},
   "outputs": [],
   "source": [
    "#1.Посмотрите, что включает в себя новый датасет Wine, где собраны результаты химического анализа вин, выращенных в одном регионе\n",
    "#Италии тремя различными культиваторами. В наборе каждый из объектов имеет 13 числовых признаков.\n",
    "#Изучите попарные графики признаков (в уроках мы рассматривали их с помощью функции pd.plotting.scatter_matrix() ) \n",
    "#и выберите такие два признака, используя которые, на ваш взгляд, можно будет лучше всего разделить данные по трем классам. \n",
    "#Помните о том, что модель гауссовского наивного Байеса использует для предсказаний среднее и разброс значений признаков относительно среднего,\n",
    "#поэтому вероятнее всего, лучшими признаками будут те, значения которых на графике разбросаны примерно одинаково от среднего значения,\n",
    "#но как можно меньше накладываются на признаки других классов.\n",
    "#"
   ]
  },
  {
   "cell_type": "code",
   "execution_count": null,
   "id": "658f70dd-f182-42ec-bc09-2dcaf12468bf",
   "metadata": {},
   "outputs": [],
   "source": [
    "from sklearn.datasets import load_wine\n",
    "import pandas as pd"
   ]
  },
  {
   "cell_type": "code",
   "execution_count": null,
   "id": "6a057655-97e1-431e-bc28-86a0fd986ea6",
   "metadata": {},
   "outputs": [],
   "source": [
    "wine_dataset = load_wine() # возвращает объект с несколькими полями\n",
    "wine_dataset['data']"
   ]
  },
  {
   "cell_type": "code",
   "execution_count": null,
   "id": "2404028e-5c63-48ea-a833-86aa82835b48",
   "metadata": {},
   "outputs": [],
   "source": [
    "df_wine = pd.DataFrame(data=wine_dataset.data, columns=wine_dataset.feature_names)\n",
    "df_wine"
   ]
  },
  {
   "cell_type": "code",
   "execution_count": null,
   "id": "84c7a4c3-5b05-4003-a053-fb8c21d1a139",
   "metadata": {},
   "outputs": [],
   "source": [
    "wine_dataframe = pd.DataFrame(wine_dataset['data'], columns=wine_dataset.feature_names)\n",
    "scat_mtrx = pd.plotting.scatter_matrix(wine_dataframe, c=wine_dataset['target'], figsize=(25, 25), marker='o',\n",
    "                                       hist_kwds={'bins': 20}, s=40, alpha=.8)"
   ]
  },
  {
   "cell_type": "code",
   "execution_count": null,
   "id": "fb9c8746-df45-4dbe-b5a9-7672a22468b4",
   "metadata": {},
   "outputs": [],
   "source": [
    "wine_dataframe_simple = pd.DataFrame(wine_dataset.data[:,11:13], columns=wine_dataset.feature_names[11:13])\n",
    "scat_mtrx = pd.plotting.scatter_matrix(wine_dataframe_simple, c=wine_dataset['target'], figsize=(10, 10), marker='o',\n",
    "                                       hist_kwds={'bins': 20}, s=40, alpha=.8)"
   ]
  },
  {
   "cell_type": "code",
   "execution_count": null,
   "id": "b4f7d2ad-8880-4934-bcd9-002e865c39df",
   "metadata": {},
   "outputs": [],
   "source": [
    "#2.Разбейте данные на тренировочный и тестовый датасеты (при разбиении используйте параметр random_state=17 \n",
    "#для воспроизводимости результатов) и постройте модель на двух выбранных признаках.\n",
    "#Используя встроенную функцию score(), проверьте точность работы модели. Если score() меньше 0.88..., \n",
    "#выберите по графику другие два признака и постройте модель на них. Укажите номера признаков, которые вы использовали \n",
    "#(помните, что индекс массива признаков начинается с 0)."
   ]
  },
  {
   "cell_type": "code",
   "execution_count": null,
   "id": "12028397-52e7-477f-bfcf-cf51b984b611",
   "metadata": {},
   "outputs": [],
   "source": [
    "from sklearn.naive_bayes import GaussianNB\n",
    "from sklearn.model_selection import train_test_split"
   ]
  },
  {
   "cell_type": "code",
   "execution_count": null,
   "id": "f122faa4-2b02-4736-98d9-c6ec30884b78",
   "metadata": {},
   "outputs": [],
   "source": [
    "from sklearn.model_selection import train_test_split\n",
    "\n",
    "x_train, x_test, y_train, y_test = train_test_split(wine_dataset.data[:, 11:13], \n",
    "                                                    wine_dataset['target'],\n",
    "                                                    random_state=17) # random_state - для воспроизводимости\n",
    "\n",
    "print(f'X_train shape: {x_train.shape}, y_train shape: {y_train.shape},\\n'\n",
    "      f'X_test shape: {x_test.shape}, y_test shape: {y_test.shape}')"
   ]
  },
  {
   "cell_type": "code",
   "execution_count": null,
   "id": "4df5ad27-834f-40d0-95ac-eed5202a520f",
   "metadata": {},
   "outputs": [],
   "source": [
    "nb = GaussianNB()\n",
    "nb_model = nb.fit(x_train, y_train)\n",
    "nb_predictions = nb.predict(x_test)\n",
    "nb_predictions"
   ]
  },
  {
   "cell_type": "code",
   "execution_count": null,
   "id": "3c219ca7-1ba4-4ab9-af2e-9a74c941b88e",
   "metadata": {},
   "outputs": [],
   "source": [
    "wine_accuracy = nb.score(x_test, y_test)\n",
    "print(f'Accuracy: {wine_accuracy}')"
   ]
  },
  {
   "cell_type": "code",
   "execution_count": null,
   "id": "d6cc89d8-2597-44bc-88ce-18adef4821f6",
   "metadata": {},
   "outputs": [],
   "source": [
    "# 3.Еще раз обучите модель на признаках с номерами 11, 12, предварительно снова разбив данные на тренировочные и тестовые (с random_state=17). #\n",
    "#С помощью функции predict_proba() посмотрите, какие вероятности были вычислены для каждого из классов, и выведите эти вероятности для объекта x_test[0]."
   ]
  },
  {
   "cell_type": "code",
   "execution_count": null,
   "id": "6af24d8e-a8c1-41b5-8df3-3d855fdf5af5",
   "metadata": {},
   "outputs": [],
   "source": [
    "x_train, x_test, y_train, y_test = train_test_split(wine_dataset.data[:, 10:12], \n",
    "                                                    wine_dataset['target'],\n",
    "                                                    random_state=17) # random_state - для воспроизводимости\n",
    "\n",
    "print(f'X_train shape: {x_train.shape}, y_train shape: {y_train.shape},\\n'\n",
    "      f'X_test shape: {x_test.shape}, y_test shape: {y_test.shape}')"
   ]
  },
  {
   "cell_type": "code",
   "execution_count": null,
   "id": "b39b4b49-aaa0-465c-8c81-d39ba60ec783",
   "metadata": {},
   "outputs": [],
   "source": [
    "nb = GaussianNB()\n",
    "nb_model = nb.fit(x_train, y_train)\n",
    "nb_predictions = nb.predict(x_test)\n",
    "nb_predictions"
   ]
  },
  {
   "cell_type": "code",
   "execution_count": null,
   "id": "69159c2e-a5db-4480-b4f8-e0d7b6271b06",
   "metadata": {},
   "outputs": [],
   "source": [
    "score = nb.predict_proba(x_test)[0]\n",
    "score"
   ]
  },
  {
   "cell_type": "code",
   "execution_count": null,
   "id": "ad39d6d6-3911-40db-b33c-04bc2f1d6d2f",
   "metadata": {},
   "outputs": [],
   "source": []
  },
  {
   "cell_type": "code",
   "execution_count": null,
   "id": "8f9a1afc-9ebe-4936-8ba4-167d0fbd5650",
   "metadata": {},
   "outputs": [],
   "source": [
    "# Домашняя работа 5.3\n",
    "#В уроке мы разобрали построение модели kNN на базовом наборе данных Iris.\n",
    "#Для лучшего понимания, как работает алгоритм, мы использовали только два признака - длину и ширину лепестка.\n",
    "#Однако другие признаки тоже могли быть важны для получения моделью более детальной информации об объектах и, соответственно, \n",
    "#построения более точных прогнозов. \n",
    "\n",
    "#Поочередно добавьте к признакам (petal length, petal width) из урока оставшиеся признаки, чтобы получилось: \n",
    "#1) (sepal length, petal length, petal width); 2) (sepal width, petal length, petal width)."
   ]
  },
  {
   "cell_type": "code",
   "execution_count": null,
   "id": "00db8161-b00b-4c32-a9cb-02c8185feb2e",
   "metadata": {},
   "outputs": [],
   "source": [
    "from sklearn.datasets import load_iris\n",
    "import numpy as np\n",
    "import pandas as pd\n",
    "import matplotlib.pyplot as plt\n",
    "from sklearn.model_selection import train_test_split\n",
    "from sklearn.linear_model import SGDRegressor\n",
    "from sklearn.metrics import mean_squared_error\n",
    "from scipy.spatial import distance\n",
    "iris_dataset = load_iris() # возвращает объект с несколькими полями\n",
    "iris_dataset.keys()"
   ]
  },
  {
   "cell_type": "code",
   "execution_count": null,
   "id": "b22d5b8b-6edf-4e84-8a5a-618bfe41dc04",
   "metadata": {},
   "outputs": [],
   "source": [
    "iris_dataset['feature_names']"
   ]
  },
  {
   "cell_type": "code",
   "execution_count": null,
   "id": "10c9a7f6-141a-42fe-a6b3-c9dfa41aee3c",
   "metadata": {},
   "outputs": [],
   "source": [
    "#data = load_iris()\n",
    "df = pd.DataFrame(data=iris_dataset.data, columns=iris_dataset.feature_names)\n",
    "df"
   ]
  },
  {
   "cell_type": "code",
   "execution_count": null,
   "id": "11c9d65b-83db-40fc-9b44-5177e2c6828b",
   "metadata": {},
   "outputs": [],
   "source": [
    "iris_dataset_1=df.copy()\n",
    "iris_dataset_1.head()\n",
    "del iris_dataset_1['sepal width (cm)']\n",
    "iris_dataset_1"
   ]
  },
  {
   "cell_type": "code",
   "execution_count": null,
   "id": "f21c60e8-0dbe-4c82-99ef-a2b1e1033f84",
   "metadata": {},
   "outputs": [],
   "source": [
    "iris_dataset_2=df.copy()\n",
    "#iris_dataset_1.head()\n",
    "del iris_dataset_2['sepal length (cm)']\n",
    "iris_dataset_2"
   ]
  },
  {
   "cell_type": "code",
   "execution_count": null,
   "id": "33731b0c-8fbe-4f40-a72c-6a421bdcc1fc",
   "metadata": {},
   "outputs": [],
   "source": [
    "#2.Теперь посмотрите на трехмерном графике, насколько хорошо данные разделяются по каждой из совокупностей трех параметров."
   ]
  },
  {
   "cell_type": "code",
   "execution_count": null,
   "id": "809beb43-56ce-4ccc-aae6-832cced97a2b",
   "metadata": {},
   "outputs": [],
   "source": [
    "#% matplotlib inline\n",
    "\n",
    "from mpl_toolkits import mplot3d\n",
    "import matplotlib.pyplot as plt\n",
    "#ax = plt.axes(projection='3d')"
   ]
  },
  {
   "cell_type": "code",
   "execution_count": null,
   "id": "ecc2fe53-47e5-4323-be06-2913221cc58d",
   "metadata": {},
   "outputs": [],
   "source": [
    "ax = plt.axes(projection='3d')\n",
    "zdata = iris_dataset_1['sepal length (cm)'].to_numpy()\n",
    "#zdata\n",
    "xdata = iris_dataset_1['petal length (cm)'].to_numpy() # точки оси X\n",
    "ydata =  iris_dataset_1['petal width (cm)'].to_numpy()# точки оси Y\n",
    "colors = np.random.randint(3, size=150)\n",
    "\n",
    "ax.scatter3D(xdata, ydata, zdata, alpha=.8, c=iris_dataset.target)"
   ]
  },
  {
   "cell_type": "code",
   "execution_count": null,
   "id": "ef142f47-4d63-4fe2-8bf3-95fec9583bcc",
   "metadata": {},
   "outputs": [],
   "source": [
    "ax = plt.axes(projection='3d')\n",
    "zdata = iris_dataset_2['sepal width (cm)'].to_numpy()\n",
    "#zdata\n",
    "xdata = iris_dataset_2['petal length (cm)'].to_numpy() # точки оси X\n",
    "ydata =  iris_dataset_2['petal width (cm)'].to_numpy()# точки оси Y\n",
    "colors = np.random.randint(3, size=150)\n",
    "\n",
    "ax.scatter3D(xdata, ydata, zdata, alpha=.8, c=iris_dataset.target)"
   ]
  },
  {
   "cell_type": "code",
   "execution_count": null,
   "id": "d2f96d8c-5f89-4aed-9405-5524c8482637",
   "metadata": {},
   "outputs": [],
   "source": [
    "#3. С помощью функции sklearn.model_selection.train_test_split разделите данные на тренировочный и тестовый датасеты и затем,\n",
    "#применив библиотечную версию алгоритма sklearn.neighbors.KNeighborsClassifier, \n",
    "#постройте модель для наборов данных iris_dataset_1 и iris_dataset_2 (по умолчанию используйте n_neighbors=5).\n",
    "#Примечание: в функции train_test_split используйте параметр random_state=17 для воспроизводимости результатов.\n"
   ]
  },
  {
   "cell_type": "code",
   "execution_count": null,
   "id": "97aed73e-4e90-42bd-b691-b0e86c727a3b",
   "metadata": {},
   "outputs": [],
   "source": []
  },
  {
   "cell_type": "code",
   "execution_count": null,
   "id": "eacddbd1-e4ed-4ed8-9a32-5aacb692d60d",
   "metadata": {},
   "outputs": [],
   "source": [
    "from sklearn.model_selection import train_test_split\n",
    "from sklearn.neighbors import KNeighborsClassifier"
   ]
  },
  {
   "cell_type": "code",
   "execution_count": null,
   "id": "9e424c77-7805-4a4b-bf8f-2b3a39ef7eb5",
   "metadata": {},
   "outputs": [],
   "source": [
    "\n",
    "x1 = iris_dataset_1#['sepal length (cm)'].values#\n",
    "y1=iris_dataset['target']\n",
    "#x1 = iris_dataset_1[['petal length (cm)','petal width (cm)']].values\n",
    "\n",
    "x_train_1, x_test_1, y_train_1, y_test_1 = train_test_split(x1,y1,random_state=17) # random_state - для воспроизводимости\n",
    "\n",
    "print(f'X_train1 shape: {x_train_1.shape}, y_train1 shape: {y_train_1.shape},\\n'\n",
    "       f'X_test1 shape: {x_test_1.shape}, y_test1 shape: {y_test_1.shape}')\n"
   ]
  },
  {
   "cell_type": "code",
   "execution_count": null,
   "id": "bb72644d-d11b-4a53-b280-a10263649922",
   "metadata": {},
   "outputs": [],
   "source": [
    "#iris_dataset_1"
   ]
  },
  {
   "cell_type": "code",
   "execution_count": null,
   "id": "2a2a3ce7-5033-468f-9ecc-e50852a9796e",
   "metadata": {},
   "outputs": [],
   "source": [
    "#iris_dataset['target']"
   ]
  },
  {
   "cell_type": "code",
   "execution_count": null,
   "id": "560d0714-909f-4603-8192-1653cb0fdf9d",
   "metadata": {},
   "outputs": [],
   "source": [
    "#iris_dataset_1[['petal length (cm)','petal width (cm)']]"
   ]
  },
  {
   "cell_type": "code",
   "execution_count": null,
   "id": "0e056baf-3f73-4378-ae39-afab622fb0ba",
   "metadata": {},
   "outputs": [],
   "source": [
    "x2 = iris_dataset_2#['sepal width (cm)'].values#\n",
    "y2= iris_dataset['target']\n",
    "#y2 = iris_dataset_2[['petal length (cm)','petal width (cm)']].values\n",
    "#print(type(x2),type(y2))\n",
    "x_train_2, x_test_2, y_train_2, y_test_2 = train_test_split(x2,y2,random_state=17) # random_state - для воспроизводимости\n",
    "\n",
    "print(f'X_train2 shape: {x_train_2.shape}, y_train2 shape: {y_train_2.shape},\\n'\n",
    "       f'X_test2 shape: {x_test_2.shape}, y_test2 shape: {y_test_2.shape}')\n",
    "print(y_train_2.dtype)"
   ]
  },
  {
   "cell_type": "code",
   "execution_count": null,
   "id": "86df9843-a6bb-4e20-bef7-bbc350b496d4",
   "metadata": {},
   "outputs": [],
   "source": []
  },
  {
   "cell_type": "code",
   "execution_count": null,
   "id": "0cc204f7-17e6-45a1-81aa-731f64da037b",
   "metadata": {},
   "outputs": [],
   "source": [
    "#x_train_1, x_test_1, y_train_1, y_test_1 = train_test_split(iris_dataset_1, iris_dataset['target'], test_size = 0.2, random_state=0)\n",
    "#print(y_train_1.shape)"
   ]
  },
  {
   "cell_type": "code",
   "execution_count": null,
   "id": "75b8cd11-2232-43c1-a427-6ebd3dff9bd8",
   "metadata": {},
   "outputs": [],
   "source": [
    "from sklearn.neighbors import KNeighborsClassifier\n",
    "knn = KNeighborsClassifier(n_neighbors=5)\n",
    "knn_model_1 = knn.fit(x_train_1, y_train_1)\n",
    "#knn_model_2 = knn.fit(x_train_2, y_train_2)"
   ]
  },
  {
   "cell_type": "code",
   "execution_count": null,
   "id": "d7e506f0-043d-4a4b-a5d7-13ce5330be63",
   "metadata": {},
   "outputs": [],
   "source": [
    "knn_predictions_1 = knn_model_1.predict(x_test_1)\n",
    "\n",
    "print('iris_dataset_1')\n",
    "print(knn_predictions_1)\n",
    "print(y_test_1)\n"
   ]
  },
  {
   "cell_type": "code",
   "execution_count": null,
   "id": "f7a2d15c-ce78-41d8-9dfc-a14c97296e1a",
   "metadata": {},
   "outputs": [],
   "source": [
    "knn_model_2 = knn.fit(x_train_2, y_train_2)\n",
    "knn_predictions_2 = knn_model_2.predict(x_test_2)\n",
    "print('iris_dataset_2')\n",
    "print(knn_predictions_2)\n",
    "print(y_test_2)"
   ]
  },
  {
   "cell_type": "code",
   "execution_count": null,
   "id": "cdf09730-feb4-4f53-9ed3-280cf69db972",
   "metadata": {},
   "outputs": [],
   "source": [
    "#4.Проверьте точность работы обеих моделей, используя встроенную функцию sklearn.metrics.accuracy_score. Сравните результат их работы с результатом, #\n",
    "#полученным на наборе данных с двумя признаками (который разбирался в уроке), и укажите ответ."
   ]
  },
  {
   "cell_type": "code",
   "execution_count": null,
   "id": "d05918af-0a72-4c98-9e93-dbf793e5fcac",
   "metadata": {},
   "outputs": [],
   "source": [
    "from sklearn.metrics import accuracy_score\n",
    "accuracy_1 = accuracy_score(y_test_1, knn_predictions_1)\n",
    "print(f'Accuracy_1: {accuracy_1}')"
   ]
  },
  {
   "cell_type": "code",
   "execution_count": null,
   "id": "b6377cc7-5270-44a9-a72f-50a2b01c93b8",
   "metadata": {},
   "outputs": [],
   "source": [
    "accuracy_2 = accuracy_score(y_test_2, knn_predictions_2)\n",
    "print(f'Accuracy_2: {accuracy_2}')"
   ]
  },
  {
   "cell_type": "code",
   "execution_count": null,
   "id": "8a8689c9-ed19-44ca-ac6f-94ba304d24a6",
   "metadata": {},
   "outputs": [],
   "source": [
    "# 5.Постройте модель на данных x_train_1, y_train_1 с гиперпараметром n_neighbors, \n",
    "#пробегающим значения от 1 до 20 включительно, и укажите значения n_neighbors, которым соответствует наиболее высокий результат функции accuracy_score().\n",
    "#Примечание: можно воспользоваться циклом for, чтобы не прописывать вручную все 20 вариаций модели.\n"
   ]
  },
  {
   "cell_type": "code",
   "execution_count": null,
   "id": "1a85a2a6-5daf-4828-9e69-6cad9054eb11",
   "metadata": {},
   "outputs": [],
   "source": [
    "data = pd.read_csv('non_linear.csv', sep=',')\n",
    "data"
   ]
  },
  {
   "cell_type": "code",
   "execution_count": null,
   "id": "5edf5eb2-e14e-49e3-8245-f5ff88df556c",
   "metadata": {},
   "outputs": [],
   "source": [
    "from sklearn.neighbors import KNeighborsClassifier\n",
    "x3=data#.values#.astype(int)\n",
    "y3=data['y_train'].values.astype(int)\n",
    "#print(x3.dtype,y3.dtype)\n",
    "print(type(x3),type(y3))\n",
    "x_train_3, x_test_3, y_train_3, y_test_3 = train_test_split(x3,y3, test_size = 0.2, random_state=17)\n",
    "#print(x3)\n",
    "print(f'X_train3 shape: {x_train_3.shape}, y_train3 shape: {y_train_3.shape},\\n'\n",
    "       f'X_test3 shape: {x_test_3.shape}, y_test3 shape: {y_test_3.shape}')"
   ]
  },
  {
   "cell_type": "code",
   "execution_count": null,
   "id": "c5164ca6-1f51-4879-82fd-e840d698226f",
   "metadata": {},
   "outputs": [],
   "source": [
    "#print(x_train_3)\n",
    "#print(x_test_3)\n",
    "#print(y_train_3)\n",
    "#print(y_test_3)"
   ]
  },
  {
   "cell_type": "code",
   "execution_count": null,
   "id": "dfd22aeb-48c5-4c13-a3f7-179ec7bd20a0",
   "metadata": {},
   "outputs": [],
   "source": [
    "from sklearn.neighbors import KNeighborsClassifier\n",
    "from sklearn.metrics import accuracy_score\n",
    "for i in range (1,20):\n",
    " #print(i)   \n",
    " knn = KNeighborsClassifier(n_neighbors=i)\n",
    " knn_model_3 = knn.fit(x_train_3, y_train_3)\n",
    " knn_predictions_3 = knn_model_3.predict(x_test_3)\n",
    " #print('dataset_3')\n",
    " #print(knn_predictions_3)\n",
    " #print(y_test_3)\n",
    " accuracy_3 = accuracy_score(y_test_3, knn_predictions_3)\n",
    " if  accuracy_3 >= 0.9: \n",
    "  print('При neighbors = ',i,'Accuracy_3: ',accuracy_3 )"
   ]
  },
  {
   "cell_type": "code",
   "execution_count": null,
   "id": "8aba312c-7843-4c19-ae65-76d0b156d4f8",
   "metadata": {},
   "outputs": [],
   "source": [
    "# from sklearn.metrics import accuracy_score\n",
    "# accuracy_3 = accuracy_score(y_test_3, knn_predictions_3)\n",
    "# print(f'Accuracy_3: {accuracy_3}')"
   ]
  },
  {
   "cell_type": "code",
   "execution_count": null,
   "id": "6782c232-adad-4b8f-91b8-8cc691e3c818",
   "metadata": {},
   "outputs": [],
   "source": []
  }
 ],
 "metadata": {
  "kernelspec": {
   "display_name": "Python 3 (ipykernel)",
   "language": "python",
   "name": "python3"
  },
  "language_info": {
   "codemirror_mode": {
    "name": "ipython",
    "version": 3
   },
   "file_extension": ".py",
   "mimetype": "text/x-python",
   "name": "python",
   "nbconvert_exporter": "python",
   "pygments_lexer": "ipython3",
   "version": "3.12.1"
  }
 },
 "nbformat": 4,
 "nbformat_minor": 5
}
