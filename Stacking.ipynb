{
 "cells": [
  {
   "cell_type": "code",
   "execution_count": null,
   "id": "38b817a6-b1a2-41d0-900c-deafb0c13538",
   "metadata": {},
   "outputs": [],
   "source": [
    "# \n",
    "\n",
    "#В этом домашнем задании вы создадите собственную функцию для блендинга/классического стекинга моделей, которая пригодится вам в дальнейшем.\n",
    "\n",
    "#Ниже вы увидите заготовку для функции, где:\n",
    "\n",
    "#    models - список объектов базовых алгоритмов\n",
    "\n",
    "#    meta_alg - мета-алгоритм\n",
    "\n",
    "# data_train, targets_train, data_test, targets_test - тренировочные и тестовые признаки и целевые переменные\n",
    "\n",
    "#    test_size - размер тестовых данных для блендинга в промежутке (0, 1)\n",
    "\n",
    "#    cv - количество разбиений для кросс-валидации\n",
    "\n"
   ]
  },
  {
   "cell_type": "code",
   "execution_count": null,
   "id": "b2934899-bb25-459f-add1-dbd49ae2d05d",
   "metadata": {},
   "outputs": [],
   "source": [
    "pip install xgboost==0.80"
   ]
  },
  {
   "cell_type": "code",
   "execution_count": null,
   "id": "5eea1229-854a-48c2-bd0f-2c2457739d42",
   "metadata": {},
   "outputs": [],
   "source": [
    "pip show xgboost"
   ]
  },
  {
   "cell_type": "code",
   "execution_count": 2,
   "id": "a8ea2285-6eaa-4580-b036-1945efea4447",
   "metadata": {},
   "outputs": [],
   "source": [
    "from sklearn.neighbors import KNeighborsClassifier\n",
    "from sklearn.linear_model import LogisticRegression\n",
    "from sklearn.tree import DecisionTreeClassifier\n",
    "from sklearn.svm import SVC\n",
    "from xgboost import XGBClassifier\n",
    "from sklearn.model_selection import train_test_split\n",
    "from sklearn.metrics import roc_auc_score\n",
    "import pandas as pd\n",
    "import numpy as np\n",
    "import collections"
   ]
  },
  {
   "cell_type": "code",
   "execution_count": null,
   "id": "9f02a6d2-d596-47e8-bd14-ab77e3ae6ba0",
   "metadata": {},
   "outputs": [],
   "source": [
    "# 1.\n",
    "\n",
    "#В следующей ячейке в теле функции определен условный оператор if-else. После elif вместо pass пропишите код из лекции с некоторыми новыми вставками \n",
    "#в таком порядке: деление data_train и targets_train на тренировочные и валидационные данные с помощью функции train_test_split, где test_size=test_size\n",
    "#из определения функции; определение матрицы meta_mtrx; цикл, в котором заполняется meta_mtrx: сначала строка, где модель обучается с помощью метода fit \n",
    "#на тренировочных данных из разбиения, затем строка, где матрица заполняется значениями предсказаний моделей на валидационных данных. \n",
    "#На этом цикл заканчивается.\n",
    "\n",
    "#После цикла добавьте строку с методом fit мета-алгоритма: обучите его на значениях полученной матрицы meta_mtrx и целевой переменной для \n",
    "#валидационных данных.\n",
    "\n",
    "#Определите матрицу meta_mtrx_test. Напишите цикл, где эта матрица заполняется предсказаниями базовых моделей на тестовых данных data_test.\n",
    "\n",
    "#После цикла сделайте предсказания мета-алгоритма для значений матрицы meta_mtrx_test.\n",
    "\n",
    "#Дополните код еще одним оператором if, который будет проверять, существуют ли данные targets_test для проверки качества работы модели на тестовых данных:\n",
    "#если targets_test не является None, тогда выведите метрику roc_auc_score для предсказаний мета-алгоритма на тестовых данных."
   ]
  },
  {
   "cell_type": "code",
   "execution_count": null,
   "id": "59926824-d144-4365-9280-17c4165c21e8",
   "metadata": {},
   "outputs": [],
   "source": [
    "# 2.\n",
    "\n",
    "#Теперь напишите код стекинга вместо pass после оператора if.\n",
    "\n",
    "#Сразу определите матрицу meta_mtrx. Напишите цикл для заполнения матрицы: сначала напишите строку, где каждый столбец\n",
    "#метапризнаков (для каждой модели) заполняется с помощью функции \n",
    "#cross_val_predict(base_algotithm, data_train, targets_train, cv, method='predict'); следующая строка - обучите каждый базовый \n",
    "#алгоритм на полном тренировочном датасете.\n",
    "\n",
    "#После цикла обучите мета-алгоритм на матрице метапризнаков meta_mtrx. Определите матрицу meta_mtrx_test.\n",
    "\n",
    "#Напишите второй цикл, где матрица meta_mtrx_test заполняется предсказаниями базовых моделей на тестовых данных data_test.\n",
    "\n",
    "#После цикла сделайте предсказания мета-алгоритма для значений матрицы meta_mtrx_test.\n",
    "\n",
    "#Так же, как и для блендинга, напишите код проверки для targets_test и выведите roc_auc_score, если это возможно."
   ]
  },
  {
   "cell_type": "code",
   "execution_count": null,
   "id": "225d72ef-bfa1-430e-b911-0a0cc50cb723",
   "metadata": {},
   "outputs": [],
   "source": [
    "# 3.\n",
    "\n",
    "#Базовая функция стекинга готова. Теперь проверим, как она работает. Ниже представлен уже знакомый нам датасет Titanic, \n",
    "#разделенный на тренировочный и тестовый датасеты; предопределенные базовые алгоритмы и мета-алгоритм. \n",
    "#Ваша задача - составить список базовых алгоритмов и запустить функцию в трех различных вариантах\n",
    "#(при этом в каждом из них все значения data_train, targets_train, data_test, targets_test должны быть определены):\n",
    "\n",
    "#    Вызвать исключение \"test_size must be between 0 and 1\".\n",
    "\n",
    "#    Установить test_size=0.3; вывести AUC и массив полученных предсказаний.\n",
    "\n",
    "#    Оставить test_size=None; вывести AUC и массив полученных предсказаний."
   ]
  },
  {
   "cell_type": "code",
   "execution_count": null,
   "id": "c3c01c3c-a0e9-4de3-be10-2788f2aaecf5",
   "metadata": {},
   "outputs": [],
   "source": []
  },
  {
   "cell_type": "code",
   "execution_count": 3,
   "id": "807d506d-0d3a-4c89-8c40-52772644ff92",
   "metadata": {},
   "outputs": [],
   "source": [
    "targets = pd.read_csv('df2.csv')\n",
    "data = pd.read_csv('df1.csv')"
   ]
  },
  {
   "cell_type": "code",
   "execution_count": null,
   "id": "9502d989-f8de-413b-b65e-9b7839ece6d1",
   "metadata": {},
   "outputs": [],
   "source": [
    "# titanic = pd.read_csv('titanic.csv')\n",
    "# targets = titanic.Survived\n",
    "# data = titanic.drop(columns='Survived')"
   ]
  },
  {
   "cell_type": "code",
   "execution_count": null,
   "id": "e859b769-1007-4702-a302-85b88262bd04",
   "metadata": {},
   "outputs": [],
   "source": [
    "print(data) "
   ]
  },
  {
   "cell_type": "code",
   "execution_count": 4,
   "id": "40df4821-6a0c-4864-8791-f2b3408c1b8c",
   "metadata": {},
   "outputs": [],
   "source": [
    "x_train, x_test, y_train, y_test = train_test_split(data, \n",
    "                                                    targets,\n",
    "                                                    train_size=0.8,\n",
    "                                                    random_state=0)\n",
    "\n",
    "\n",
    "\n",
    "train, valid, train_true, valid_true = train_test_split(x_train, \n",
    "                                                        y_train,\n",
    "                                                        train_size=0.5,\n",
    "                                                        random_state=0)"
   ]
  },
  {
   "cell_type": "code",
   "execution_count": null,
   "id": "09260b78-9203-4b99-ac0f-511387cc3665",
   "metadata": {},
   "outputs": [],
   "source": []
  },
  {
   "cell_type": "code",
   "execution_count": null,
   "id": "ff551556-8806-45f3-b7b3-caaa457c11e1",
   "metadata": {},
   "outputs": [],
   "source": []
  },
  {
   "cell_type": "code",
   "execution_count": 11,
   "id": "b7765869-88f5-4b82-8b17-cbb51c016bb5",
   "metadata": {},
   "outputs": [
    {
     "name": "stderr",
     "output_type": "stream",
     "text": [
      "C:\\Users\\DS\\PycharmProjects\\pythonProject\\venv\\Lib\\site-packages\\sklearn\\neighbors\\_classification.py:238: DataConversionWarning: A column-vector y was passed when a 1d array was expected. Please change the shape of y to (n_samples,), for example using ravel().\n",
      "  return self._fit(X, y)\n",
      "C:\\Users\\DS\\PycharmProjects\\pythonProject\\venv\\Lib\\site-packages\\sklearn\\utils\\validation.py:1229: DataConversionWarning: A column-vector y was passed when a 1d array was expected. Please change the shape of y to (n_samples, ), for example using ravel().\n",
      "  y = column_or_1d(y, warn=True)\n",
      "C:\\Users\\DS\\PycharmProjects\\pythonProject\\venv\\Lib\\site-packages\\sklearn\\utils\\validation.py:1229: DataConversionWarning: A column-vector y was passed when a 1d array was expected. Please change the shape of y to (n_samples, ), for example using ravel().\n",
      "  y = column_or_1d(y, warn=True)\n",
      "C:\\Users\\DS\\PycharmProjects\\pythonProject\\venv\\Lib\\site-packages\\sklearn\\utils\\validation.py:1229: DataConversionWarning: A column-vector y was passed when a 1d array was expected. Please change the shape of y to (n_samples, ), for example using ravel().\n",
      "  y = column_or_1d(y, warn=True)\n"
     ]
    },
    {
     "name": "stdout",
     "output_type": "stream",
     "text": [
      "0 auc: 0.7080368906455863\n",
      "1 auc: 0.8094861660079051\n",
      "2 auc: 0.8094861660079051\n",
      "3 auc: 0.6538866930171279\n",
      "test size= 0.5\n",
      "Stacking AUC: 0.8094861660079051\n"
     ]
    },
    {
     "name": "stderr",
     "output_type": "stream",
     "text": [
      "C:\\Users\\DS\\PycharmProjects\\pythonProject\\venv\\Lib\\site-packages\\sklearn\\preprocessing\\_label.py:97: DataConversionWarning: A column-vector y was passed when a 1d array was expected. Please change the shape of y to (n_samples, ), for example using ravel().\n",
      "  y = column_or_1d(y, warn=True)\n",
      "C:\\Users\\DS\\PycharmProjects\\pythonProject\\venv\\Lib\\site-packages\\sklearn\\preprocessing\\_label.py:132: DataConversionWarning: A column-vector y was passed when a 1d array was expected. Please change the shape of y to (n_samples, ), for example using ravel().\n",
      "  y = column_or_1d(y, dtype=self.classes_.dtype, warn=True)\n"
     ]
    },
    {
     "name": "stdout",
     "output_type": "stream",
     "text": [
      "1 auc: 0.6538866930171279\n"
     ]
    },
    {
     "name": "stderr",
     "output_type": "stream",
     "text": [
      "C:\\Users\\DS\\PycharmProjects\\pythonProject\\venv\\Lib\\site-packages\\sklearn\\preprocessing\\_label.py:97: DataConversionWarning: A column-vector y was passed when a 1d array was expected. Please change the shape of y to (n_samples, ), for example using ravel().\n",
      "  y = column_or_1d(y, warn=True)\n",
      "C:\\Users\\DS\\PycharmProjects\\pythonProject\\venv\\Lib\\site-packages\\sklearn\\preprocessing\\_label.py:132: DataConversionWarning: A column-vector y was passed when a 1d array was expected. Please change the shape of y to (n_samples, ), for example using ravel().\n",
      "  y = column_or_1d(y, dtype=self.classes_.dtype, warn=True)\n"
     ]
    }
   ],
   "source": [
    "def stacking(models, meta_alg, data_train, targets_train, data_test, targets_test=None, test_size=None, cv=5):\n",
    " if test_size is None:\n",
    "         print(' test_size is None')\n",
    "         pass\n",
    "        \n",
    "   \n",
    " elif test_size > 0 and test_size < 1:\n",
    "        print('test size=',test_size)\n",
    "      \n",
    "\n",
    "        # for n, model in enumerate(models):\n",
    "        #    meta_mtrx[:, n] = model.predict(valid)\n",
    "        #    predicted = model.predict(x_test)\n",
    "        # print(f'{n} auc: {roc_auc_score(y_test, predicted)}')\n",
    "    \n",
    "        # meta = XGBClassifier(n_estimators=40)\n",
    "        # meta_model = meta.fit(meta_mtrx, valid_true)\n",
    "\n",
    "        meta_mtrx_test = np.empty((x_test.shape[0], len(models))) \n",
    "\n",
    "        for n, model in enumerate(models):\n",
    "          meta_mtrx_test[:, n] = model.predict(x_test)\n",
    "    \n",
    "          meta_predict = meta.predict(meta_mtrx_test)\n",
    "        print(f'Stacking AUC: {roc_auc_score(y_test, meta_predict)}')\n",
    "\n",
    "        models = [knn_model, svc_model]\n",
    "        meta_mtrx = np.empty((valid.shape[0], len(models))) # (кол-во объектов, 4 алгоритма)\n",
    "\n",
    "        for n, model in enumerate(models):\n",
    "          meta_mtrx[:, n] = model.predict(valid)\n",
    "          predicted = model.predict(x_test)\n",
    "        print(f'{n} auc: {roc_auc_score(y_test, predicted)}')\n",
    "\n",
    "        meta_model = meta.fit(meta_mtrx, valid_true)\n",
    "\n",
    "        meta_mtrx_test = np.empty((x_test.shape[0], len(models))) \n",
    "\n",
    "        for n, model in enumerate(models):\n",
    "          meta_mtrx_test[:, n] = model.predict(x_test)\n",
    "    \n",
    "          meta_predict = meta.predict(meta_mtrx_test)\n",
    "          if targets_test != None:\n",
    "               print(f'Stacking AUC: {roc_auc_score(y_test, meta_predict)}')\n",
    "\n",
    "\n",
    "\n",
    "\n",
    " else:\n",
    "        raise ValueError(\"test_size must be between 0 and 1\")\n",
    "\n",
    "\n",
    "# x_train, x_test, y_train, y_test = train_test_split(data, \n",
    "#                                                     targets,\n",
    "#                                                     train_size=0.8,\n",
    "#                                                     random_state=0)\n",
    "\n",
    "\n",
    "\n",
    "# train, valid, train_true, valid_true = train_test_split(x_train, \n",
    "#                                                         y_train,\n",
    "#                                                         train_size=0.5,\n",
    "#                                                         random_state=0)\n",
    "# #print(train, train_true)\n",
    "\n",
    "knn = KNeighborsClassifier(n_neighbors=3)\n",
    "knn_model = knn.fit(train, train_true)\n",
    "\n",
    "lr = LogisticRegression(random_state=17)\n",
    "lr_model = lr.fit(train, train_true)\n",
    "\n",
    "tc = DecisionTreeClassifier(max_leaf_nodes=4, random_state=17)\n",
    "dtc_model = lr.fit(train, train_true)\n",
    "\n",
    "svc = SVC(random_state=17)\n",
    "svc_model = svc.fit(train, train_true)\n",
    "\n",
    "models = [knn_model, lr_model, dtc_model, svc_model]\n",
    "\n",
    "meta_mtrx = np.empty((valid.shape[0], len(models)))\n",
    "\n",
    "for n, model in enumerate(models):\n",
    "    meta_mtrx[:, n] = model.predict(valid)\n",
    "    predicted = model.predict(x_test)\n",
    "    print(f'{n} auc: {roc_auc_score(y_test, predicted)}')\n",
    "\n",
    "\n",
    "meta = XGBClassifier(n_estimators=40)\n",
    "meta_alg = meta.fit(meta_mtrx, valid_true)\n",
    "\n",
    "\n",
    "\n",
    "data_train = x_train\n",
    "targets_train= y_train\n",
    "data_test=x_test \n",
    "\n",
    "stacking(models, meta_alg, data_train, targets_train, data_test, targets_test=None, test_size=0.5, cv=5)\n",
    "\n",
    "\n",
    "        "
   ]
  },
  {
   "cell_type": "code",
   "execution_count": null,
   "id": "a748d515-38b6-40fe-859b-d3a54cccdf7f",
   "metadata": {},
   "outputs": [],
   "source": [
    "\n"
   ]
  },
  {
   "cell_type": "code",
   "execution_count": null,
   "id": "acc33197-4032-4950-ae15-873f2fabc605",
   "metadata": {},
   "outputs": [],
   "source": [
    "# Установить test_size=0.3; вывести AUC и массив полученных предсказаний."
   ]
  },
  {
   "cell_type": "code",
   "execution_count": 13,
   "id": "e2b21904-817d-474f-9b69-f1f78b499d93",
   "metadata": {},
   "outputs": [
    {
     "name": "stderr",
     "output_type": "stream",
     "text": [
      "C:\\Users\\DS\\PycharmProjects\\pythonProject\\venv\\Lib\\site-packages\\sklearn\\neighbors\\_classification.py:238: DataConversionWarning: A column-vector y was passed when a 1d array was expected. Please change the shape of y to (n_samples,), for example using ravel().\n",
      "  return self._fit(X, y)\n",
      "C:\\Users\\DS\\PycharmProjects\\pythonProject\\venv\\Lib\\site-packages\\sklearn\\utils\\validation.py:1229: DataConversionWarning: A column-vector y was passed when a 1d array was expected. Please change the shape of y to (n_samples, ), for example using ravel().\n",
      "  y = column_or_1d(y, warn=True)\n",
      "C:\\Users\\DS\\PycharmProjects\\pythonProject\\venv\\Lib\\site-packages\\sklearn\\utils\\validation.py:1229: DataConversionWarning: A column-vector y was passed when a 1d array was expected. Please change the shape of y to (n_samples, ), for example using ravel().\n",
      "  y = column_or_1d(y, warn=True)\n",
      "C:\\Users\\DS\\PycharmProjects\\pythonProject\\venv\\Lib\\site-packages\\sklearn\\utils\\validation.py:1229: DataConversionWarning: A column-vector y was passed when a 1d array was expected. Please change the shape of y to (n_samples, ), for example using ravel().\n",
      "  y = column_or_1d(y, warn=True)\n"
     ]
    },
    {
     "name": "stdout",
     "output_type": "stream",
     "text": [
      "0 auc: 0.7080368906455863\n",
      "1 auc: 0.8094861660079051\n",
      "2 auc: 0.8094861660079051\n",
      "3 auc: 0.6538866930171279\n",
      "test size= 0.3\n",
      "Stacking AUC: 0.8094861660079051\n"
     ]
    },
    {
     "name": "stderr",
     "output_type": "stream",
     "text": [
      "C:\\Users\\DS\\PycharmProjects\\pythonProject\\venv\\Lib\\site-packages\\sklearn\\preprocessing\\_label.py:97: DataConversionWarning: A column-vector y was passed when a 1d array was expected. Please change the shape of y to (n_samples, ), for example using ravel().\n",
      "  y = column_or_1d(y, warn=True)\n",
      "C:\\Users\\DS\\PycharmProjects\\pythonProject\\venv\\Lib\\site-packages\\sklearn\\preprocessing\\_label.py:132: DataConversionWarning: A column-vector y was passed when a 1d array was expected. Please change the shape of y to (n_samples, ), for example using ravel().\n",
      "  y = column_or_1d(y, dtype=self.classes_.dtype, warn=True)\n",
      "C:\\Users\\DS\\PycharmProjects\\pythonProject\\venv\\Lib\\site-packages\\sklearn\\preprocessing\\_label.py:97: DataConversionWarning: A column-vector y was passed when a 1d array was expected. Please change the shape of y to (n_samples, ), for example using ravel().\n",
      "  y = column_or_1d(y, warn=True)\n",
      "C:\\Users\\DS\\PycharmProjects\\pythonProject\\venv\\Lib\\site-packages\\sklearn\\preprocessing\\_label.py:132: DataConversionWarning: A column-vector y was passed when a 1d array was expected. Please change the shape of y to (n_samples, ), for example using ravel().\n",
      "  y = column_or_1d(y, dtype=self.classes_.dtype, warn=True)\n"
     ]
    },
    {
     "name": "stdout",
     "output_type": "stream",
     "text": [
      "1 auc: 0.6538866930171279\n"
     ]
    }
   ],
   "source": [
    "def stacking(models, meta_alg, data_train, targets_train, data_test, targets_test=None, test_size=None, cv=5):\n",
    " if test_size is None:\n",
    "         pass\n",
    "        \n",
    "   \n",
    " elif test_size > 0 and test_size < 1:\n",
    "        print('test size=',test_size)\n",
    "      \n",
    "\n",
    "        # for n, model in enumerate(models):\n",
    "        #    meta_mtrx[:, n] = model.predict(valid)\n",
    "        #    predicted = model.predict(x_test)\n",
    "        # print(f'{n} auc: {roc_auc_score(y_test, predicted)}')\n",
    "    \n",
    "        # meta = XGBClassifier(n_estimators=40)\n",
    "        # meta_model = meta.fit(meta_mtrx, valid_true)\n",
    "\n",
    "        meta_mtrx_test = np.empty((x_test.shape[0], len(models))) \n",
    "\n",
    "        for n, model in enumerate(models):\n",
    "          meta_mtrx_test[:, n] = model.predict(x_test)\n",
    "    \n",
    "          meta_predict = meta.predict(meta_mtrx_test)\n",
    "        print(f'Stacking AUC: {roc_auc_score(y_test, meta_predict)}')\n",
    "\n",
    "        models = [knn_model, svc_model]\n",
    "        meta_mtrx = np.empty((valid.shape[0], len(models))) # (кол-во объектов, 4 алгоритма)\n",
    "\n",
    "        for n, model in enumerate(models):\n",
    "          meta_mtrx[:, n] = model.predict(valid)\n",
    "          predicted = model.predict(x_test)\n",
    "        print(f'{n} auc: {roc_auc_score(y_test, predicted)}')\n",
    "\n",
    "        meta_model = meta.fit(meta_mtrx, valid_true)\n",
    "\n",
    "        meta_mtrx_test = np.empty((x_test.shape[0], len(models))) \n",
    "\n",
    "        for n, model in enumerate(models):\n",
    "          meta_mtrx_test[:, n] = model.predict(x_test)\n",
    "    \n",
    "          meta_predict = meta.predict(meta_mtrx_test)\n",
    "          if targets_test != None:\n",
    "               print(f'Stacking AUC: {roc_auc_score(y_test, meta_predict)}')\n",
    "\n",
    "\n",
    "\n",
    "\n",
    " else:\n",
    "        raise ValueError(\"test_size must be between 0 and 1\")\n",
    "\n",
    "\n",
    "# x_train, x_test, y_train, y_test = train_test_split(data, \n",
    "#                                                     targets,\n",
    "#                                                     train_size=0.8,\n",
    "#                                                     random_state=0)\n",
    "\n",
    "\n",
    "\n",
    "# train, valid, train_true, valid_true = train_test_split(x_train, \n",
    "#                                                         y_train,\n",
    "#                                                         train_size=0.5,\n",
    "#                                                         random_state=0)\n",
    "# #print(train, train_true)\n",
    "\n",
    "knn = KNeighborsClassifier(n_neighbors=3)\n",
    "knn_model = knn.fit(train, train_true)\n",
    "\n",
    "lr = LogisticRegression(random_state=17)\n",
    "lr_model = lr.fit(train, train_true)\n",
    "\n",
    "tc = DecisionTreeClassifier(max_leaf_nodes=4, random_state=17)\n",
    "dtc_model = lr.fit(train, train_true)\n",
    "\n",
    "svc = SVC(random_state=17)\n",
    "svc_model = svc.fit(train, train_true)\n",
    "\n",
    "models = [knn_model, lr_model, dtc_model, svc_model]\n",
    "\n",
    "meta_mtrx = np.empty((valid.shape[0], len(models)))\n",
    "\n",
    "for n, model in enumerate(models):\n",
    "    meta_mtrx[:, n] = model.predict(valid)\n",
    "    predicted = model.predict(x_test)\n",
    "    print(f'{n} auc: {roc_auc_score(y_test, predicted)}')\n",
    "\n",
    "\n",
    "meta = XGBClassifier(n_estimators=40)\n",
    "meta_alg = meta.fit(meta_mtrx, valid_true)\n",
    "\n",
    "\n",
    "\n",
    "data_train = x_train\n",
    "targets_train= y_train\n",
    "data_test=x_test \n",
    "\n",
    "stacking(models, meta_alg, data_train, targets_train, data_test, targets_test=None, test_size=0.3, cv=5)"
   ]
  },
  {
   "cell_type": "code",
   "execution_count": null,
   "id": "fea96e45-c72d-4758-9c47-f5e602337f17",
   "metadata": {},
   "outputs": [],
   "source": []
  },
  {
   "cell_type": "code",
   "execution_count": null,
   "id": "3a809b90-70b8-47f9-85bd-277a8930a329",
   "metadata": {},
   "outputs": [],
   "source": [
    "# Оставить test_size=None; вывести AUC и массив полученных предсказаний."
   ]
  },
  {
   "cell_type": "code",
   "execution_count": 26,
   "id": "13ca4ae8-3c47-4a12-a6bd-767aef4166e4",
   "metadata": {},
   "outputs": [
    {
     "name": "stderr",
     "output_type": "stream",
     "text": [
      "C:\\Users\\DS\\PycharmProjects\\pythonProject\\venv\\Lib\\site-packages\\sklearn\\neighbors\\_classification.py:238: DataConversionWarning: A column-vector y was passed when a 1d array was expected. Please change the shape of y to (n_samples,), for example using ravel().\n",
      "  return self._fit(X, y)\n",
      "C:\\Users\\DS\\PycharmProjects\\pythonProject\\venv\\Lib\\site-packages\\sklearn\\utils\\validation.py:1229: DataConversionWarning: A column-vector y was passed when a 1d array was expected. Please change the shape of y to (n_samples, ), for example using ravel().\n",
      "  y = column_or_1d(y, warn=True)\n",
      "C:\\Users\\DS\\PycharmProjects\\pythonProject\\venv\\Lib\\site-packages\\sklearn\\utils\\validation.py:1229: DataConversionWarning: A column-vector y was passed when a 1d array was expected. Please change the shape of y to (n_samples, ), for example using ravel().\n",
      "  y = column_or_1d(y, warn=True)\n",
      "C:\\Users\\DS\\PycharmProjects\\pythonProject\\venv\\Lib\\site-packages\\sklearn\\utils\\validation.py:1229: DataConversionWarning: A column-vector y was passed when a 1d array was expected. Please change the shape of y to (n_samples, ), for example using ravel().\n",
      "  y = column_or_1d(y, warn=True)\n"
     ]
    },
    {
     "name": "stdout",
     "output_type": "stream",
     "text": [
      "0 auc: 0.7080368906455863\n",
      "1 auc: 0.8094861660079051\n",
      "2 auc: 0.8094861660079051\n",
      "3 auc: 0.6538866930171279\n",
      "test_size is None\n"
     ]
    },
    {
     "name": "stderr",
     "output_type": "stream",
     "text": [
      "C:\\Users\\DS\\PycharmProjects\\pythonProject\\venv\\Lib\\site-packages\\sklearn\\preprocessing\\_label.py:97: DataConversionWarning: A column-vector y was passed when a 1d array was expected. Please change the shape of y to (n_samples, ), for example using ravel().\n",
      "  y = column_or_1d(y, warn=True)\n",
      "C:\\Users\\DS\\PycharmProjects\\pythonProject\\venv\\Lib\\site-packages\\sklearn\\preprocessing\\_label.py:132: DataConversionWarning: A column-vector y was passed when a 1d array was expected. Please change the shape of y to (n_samples, ), for example using ravel().\n",
      "  y = column_or_1d(y, dtype=self.classes_.dtype, warn=True)\n"
     ]
    }
   ],
   "source": [
    "def stacking(models, meta_alg, data_train, targets_train, data_test, targets_test=None, test_size=None, cv=5):\n",
    " if test_size is None:\n",
    "        print('test_size is None')\n",
    "        return\n",
    "        \n",
    "   \n",
    " elif test_size > 0 and test_size < 1:\n",
    "        print('test size=',test_size)\n",
    "      \n",
    "\n",
    "        \n",
    "        meta_mtrx_test = np.empty((x_test.shape[0], len(models))) \n",
    "\n",
    "        for n, model in enumerate(models):\n",
    "          meta_mtrx_test[:, n] = model.predict(x_test)\n",
    "    \n",
    "          meta_predict = meta.predict(meta_mtrx_test)\n",
    "        print(f'Stacking AUC: {roc_auc_score(y_test, meta_predict)}')\n",
    "\n",
    "        models = [knn_model, svc_model]\n",
    "        meta_mtrx = np.empty((valid.shape[0], len(models))) # (кол-во объектов, 4 алгоритма)\n",
    "\n",
    "        for n, model in enumerate(models):\n",
    "          meta_mtrx[:, n] = model.predict(valid)\n",
    "          predicted = model.predict(x_test)\n",
    "        print(f'{n} auc: {roc_auc_score(y_test, predicted)}')\n",
    "\n",
    "        meta_model = meta.fit(meta_mtrx, valid_true)\n",
    "\n",
    "        meta_mtrx_test = np.empty((x_test.shape[0], len(models))) \n",
    "\n",
    "        for n, model in enumerate(models):\n",
    "          meta_mtrx_test[:, n] = model.predict(x_test)\n",
    "    \n",
    "          meta_predict = meta.predict(meta_mtrx_test)\n",
    "          if targets_test != None:\n",
    "               print(f'Stacking AUC: {roc_auc_score(y_test, meta_predict)}')\n",
    "\n",
    "\n",
    "\n",
    "\n",
    " else:\n",
    "        raise ValueError(\"test_size must be between 0 and 1\")\n",
    "\n",
    "\n",
    "\n",
    "knn = KNeighborsClassifier(n_neighbors=3)\n",
    "knn_model = knn.fit(train, train_true)\n",
    "\n",
    "lr = LogisticRegression(random_state=17)\n",
    "lr_model = lr.fit(train, train_true)\n",
    "\n",
    "tc = DecisionTreeClassifier(max_leaf_nodes=4, random_state=17)\n",
    "dtc_model = lr.fit(train, train_true)\n",
    "\n",
    "svc = SVC(random_state=17)\n",
    "svc_model = svc.fit(train, train_true)\n",
    "\n",
    "models = [knn_model, lr_model, dtc_model, svc_model]\n",
    "\n",
    "meta_mtrx = np.empty((valid.shape[0], len(models)))\n",
    "\n",
    "for n, model in enumerate(models):\n",
    "    meta_mtrx[:, n] = model.predict(valid)\n",
    "    predicted = model.predict(x_test)\n",
    "    print(f'{n} auc: {roc_auc_score(y_test, predicted)}')\n",
    "\n",
    "\n",
    "meta = XGBClassifier(n_estimators=40)\n",
    "meta_alg = meta.fit(meta_mtrx, valid_true)\n",
    "\n",
    "\n",
    "\n",
    "data_train = x_train\n",
    "targets_train= y_train\n",
    "data_test=x_test \n",
    "\n",
    "stacking(models, meta_alg, data_train, targets_train, data_test, targets_test=None, test_size=None, cv=5)"
   ]
  },
  {
   "cell_type": "code",
   "execution_count": null,
   "id": "9baa2e10-47bc-46be-a2b4-e6acddb631c9",
   "metadata": {},
   "outputs": [],
   "source": []
  },
  {
   "cell_type": "code",
   "execution_count": null,
   "id": "469fc8a9-33d3-48a8-aa5c-4d8f8191bb67",
   "metadata": {},
   "outputs": [],
   "source": []
  },
  {
   "cell_type": "code",
   "execution_count": null,
   "id": "63e9b5d5-2a03-4cd3-af8f-903fac4a750a",
   "metadata": {},
   "outputs": [],
   "source": []
  },
  {
   "cell_type": "code",
   "execution_count": null,
   "id": "28f59675-527f-48c7-9c78-e74d98184c74",
   "metadata": {},
   "outputs": [],
   "source": []
  },
  {
   "cell_type": "code",
   "execution_count": null,
   "id": "4fa8b129-ebf5-4f34-8daa-5f7b3df9bb61",
   "metadata": {},
   "outputs": [],
   "source": []
  },
  {
   "cell_type": "code",
   "execution_count": null,
   "id": "83c3ea77-63c9-46c3-919a-441d982b872f",
   "metadata": {},
   "outputs": [],
   "source": []
  },
  {
   "cell_type": "code",
   "execution_count": null,
   "id": "41aaeadd-c059-4677-b938-407cbb69c934",
   "metadata": {},
   "outputs": [],
   "source": []
  },
  {
   "cell_type": "code",
   "execution_count": null,
   "id": "66970961-eaae-4593-ad96-a10089dffdf5",
   "metadata": {},
   "outputs": [],
   "source": []
  },
  {
   "cell_type": "code",
   "execution_count": null,
   "id": "ddb301f6-24ed-44bd-9835-f2082f03e817",
   "metadata": {},
   "outputs": [],
   "source": []
  },
  {
   "cell_type": "code",
   "execution_count": null,
   "id": "78977aaf-6193-418b-98f7-ded046bdc371",
   "metadata": {},
   "outputs": [],
   "source": []
  },
  {
   "cell_type": "code",
   "execution_count": null,
   "id": "bbc3dc44-2871-413e-a4d3-e8d24bac7ea2",
   "metadata": {},
   "outputs": [],
   "source": []
  },
  {
   "cell_type": "code",
   "execution_count": null,
   "id": "3432e497-8ef5-4703-8196-46817f2b0f04",
   "metadata": {},
   "outputs": [],
   "source": []
  },
  {
   "cell_type": "code",
   "execution_count": null,
   "id": "2b58712c-cf5a-4f44-b59e-6f69ba316180",
   "metadata": {},
   "outputs": [],
   "source": []
  },
  {
   "cell_type": "code",
   "execution_count": null,
   "id": "810979d5-d2a9-4b34-9816-b0e303da2243",
   "metadata": {},
   "outputs": [],
   "source": []
  },
  {
   "cell_type": "code",
   "execution_count": null,
   "id": "0a5ac995-c4e0-434e-9561-7cb00271b4ba",
   "metadata": {},
   "outputs": [],
   "source": []
  },
  {
   "cell_type": "code",
   "execution_count": null,
   "id": "983f4b22-00a4-4335-b21e-19aa9341fa2a",
   "metadata": {},
   "outputs": [],
   "source": []
  },
  {
   "cell_type": "code",
   "execution_count": null,
   "id": "6922230f-120e-4cf8-bd63-a31611247d79",
   "metadata": {},
   "outputs": [],
   "source": []
  }
 ],
 "metadata": {
  "kernelspec": {
   "display_name": "Python 3 (ipykernel)",
   "language": "python",
   "name": "python3"
  },
  "language_info": {
   "codemirror_mode": {
    "name": "ipython",
    "version": 3
   },
   "file_extension": ".py",
   "mimetype": "text/x-python",
   "name": "python",
   "nbconvert_exporter": "python",
   "pygments_lexer": "ipython3",
   "version": "3.12.1"
  }
 },
 "nbformat": 4,
 "nbformat_minor": 5
}
